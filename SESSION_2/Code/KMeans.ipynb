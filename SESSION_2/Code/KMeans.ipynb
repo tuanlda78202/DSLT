{
 "cells": [
  {
   "cell_type": "markdown",
   "metadata": {},
   "source": [
    "# K-Means "
   ]
  },
  {
   "cell_type": "markdown",
   "metadata": {},
   "source": [
    "# 1. Scratch "
   ]
  },
  {
   "cell_type": "markdown",
   "metadata": {},
   "source": [
    "## 1.1. Class Member & Cluster "
   ]
  },
  {
   "cell_type": "code",
   "execution_count": 1,
   "metadata": {},
   "outputs": [],
   "source": [
    "# Member store info of data points: tf_idf, news group, file nam of text d\n",
    "class Member:\n",
    "    def __init__(self, r_d, label = None, doc_id = None):\n",
    "        self.r_d = r_d\n",
    "        self.label = label\n",
    "        self.doc_id = doc_id"
   ]
  },
  {
   "cell_type": "code",
   "execution_count": 2,
   "metadata": {},
   "outputs": [],
   "source": [
    "# Cluster: store data point\n",
    "class Cluster:\n",
    "    def __init__(self):\n",
    "        # The underscore prefix is meant as a hint to another programmer that a variable or method starting with a single underscore  is intended for internal use\n",
    "        # https://bit.ly/3pIEL8P\n",
    "        self._centroid = None \n",
    "        self._member = []\n",
    "    # Reset members (data points) in list of centroid\n",
    "    def reset_members(self):\n",
    "        self._member = []\n",
    "    # Add new member (data point)\n",
    "    def add_member(self, new_member):\n",
    "        self._member.append(new_member)"
   ]
  },
  {
   "cell_type": "markdown",
   "metadata": {},
   "source": [
    "## 1.2. Class KMeans"
   ]
  },
  {
   "cell_type": "code",
   "execution_count": null,
   "metadata": {},
   "outputs": [],
   "source": [
    "class KMeans:\n",
    "    # Init with num_cluster, create K list store member of K centroid\n",
    "    def __init__(self, num_cluster):\n",
    "        self._num_cluster = num_cluster\n",
    "        self._centroid = [Cluster() for i in range(self._num_cluster)]\n",
    "        self._list_centroid = []    # List of centroids\n",
    "        self._similarity = 0        # Overall similarity\n",
    "    \n",
    "    # Load Data"
   ]
  }
 ],
 "metadata": {
  "interpreter": {
   "hash": "618af10fdd433c84be79e5d9cef7a85d74ad68be7e2e9dd9461a47b527f16862"
  },
  "kernelspec": {
   "display_name": "Python 3.8.8 ('base')",
   "language": "python",
   "name": "python3"
  },
  "language_info": {
   "codemirror_mode": {
    "name": "ipython",
    "version": 3
   },
   "file_extension": ".py",
   "mimetype": "text/x-python",
   "name": "python",
   "nbconvert_exporter": "python",
   "pygments_lexer": "ipython3",
   "version": "3.8.8"
  },
  "orig_nbformat": 4
 },
 "nbformat": 4,
 "nbformat_minor": 2
}
