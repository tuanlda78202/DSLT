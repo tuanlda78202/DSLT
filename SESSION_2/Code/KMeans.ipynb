{
 "cells": [
  {
   "cell_type": "markdown",
   "metadata": {},
   "source": [
    "# K-Means "
   ]
  },
  {
   "cell_type": "markdown",
   "metadata": {},
   "source": [
    "# 1. Scratch "
   ]
  },
  {
   "cell_type": "code",
   "execution_count": 23,
   "metadata": {},
   "outputs": [],
   "source": [
    "from sklearn.metrics.pairwise import cosine_similarity\n",
    "from collections import defaultdict\n",
    "import random\n",
    "import numpy as np"
   ]
  },
  {
   "cell_type": "markdown",
   "metadata": {},
   "source": [
    "## 1.1. Class Member & Cluster "
   ]
  },
  {
   "cell_type": "code",
   "execution_count": 19,
   "metadata": {},
   "outputs": [],
   "source": [
    "# Member store info of data points: tf_idf, news group, file name of text d\n",
    "class Member:\n",
    "    def __init__(self, r_d, label = None, doc_id = None):\n",
    "        self.r_d = r_d\n",
    "        self.label = label\n",
    "        self.doc_id = doc_id"
   ]
  },
  {
   "cell_type": "code",
   "execution_count": 20,
   "metadata": {},
   "outputs": [],
   "source": [
    "# Cluster: store data point\n",
    "class Cluster:\n",
    "    def __init__(self):\n",
    "        # The underscore prefix is meant as a hint that a variable or method starting w \"_\" is intended for internal use\n",
    "        # https://bit.ly/3pIEL8P\n",
    "        self._centroid = None \n",
    "        self._member = []\n",
    "    # Reset members (data points) in list of centroid\n",
    "    def reset_members(self):\n",
    "        self._member = []\n",
    "    # Add new member (data point)\n",
    "    def add_member(self, new_member):\n",
    "        self._member.append(new_member)"
   ]
  },
  {
   "cell_type": "markdown",
   "metadata": {},
   "source": [
    "## 1.2. Class KMeans"
   ]
  },
  {
   "cell_type": "code",
   "execution_count": 21,
   "metadata": {},
   "outputs": [],
   "source": [
    "class KMeans:\n",
    "    # Init with num_cluster, create K list store member of K centroid\n",
    "    def __init__(self, num_cluster):\n",
    "        self._num_cluster = num_cluster\n",
    "        self._centroid = [Cluster() for i in range(self._num_cluster)]\n",
    "        self._E = []    # List of centroids\n",
    "        self._S = 0        # Overall similarity\n",
    "    \n",
    "    # Load Data\n",
    "    def load_data(path):\n",
    "        # Get data from each line with label, doc_id, index & tfidf of its vocab\n",
    "        def sparse_to_dense(sparse_r_d, vocab_size):\n",
    "            # Init list size vocal size to store vocal \n",
    "            r_d = [0.0 for _ in range(vocab_size)]\n",
    "            \n",
    "            # Split space & : in context data of each line \n",
    "            # Get index (id vocal of each line) & tfidf\n",
    "            indices_and_tfidfs = sparse_r_d.split()\n",
    "            for index_and_tfidf in indices_and_tfidfs:\n",
    "                index = int(index_and_tfidf.split(':')[0])\n",
    "                tfidf = float(index_and_tfidf.split(':')[1])\n",
    "                r_d[index] = tfidf\n",
    "            return np.array(r_d)    \n",
    "                \n",
    "        # Open file (newsgroup, id, context)\n",
    "        with open(path +\"data_tf_idf.txt\") as f:\n",
    "            data_lines = f.read().splitlines\n",
    "        # Get size file vocal TF-IDF\n",
    "        with open(path + \"word_idfs.txt\"):\n",
    "            vocab_size = len(f.read().splitlines())\n",
    "\n",
    "        # Member store info of data points: tf_idf, news group, file name of text d\n",
    "        self._data = []\n",
    "        # Count number of label (newsgroup)\n",
    "        self._label_count = defaultdict(int)\n",
    "        # Iterating sequence of pairs with counter\n",
    "        for data_id, d in enumerate(data_lines):\n",
    "            features = d.split('<fff>')\n",
    "            label, doc_id = int(features[0]), int(features[1])\n",
    "            self._label_count[label] += 1\n",
    "            r_d = sparse_to_dense(sparse_r_d=features[2], vocab_size=vocab_size)\n",
    "\n",
    "            # Append data with class Member\n",
    "            self._data.append(Member(r_d=r_d, label=label, doc_id=doc_id))\n",
    "    \n",
    "    # Prepare for RUN Function\n",
    "    # Random element to init centroid \n",
    "    def random_init(self, seed_value):\n",
    "        random.seed(seed_value)\n",
    "        # Crawl list members\n",
    "        members = [member._r_d for member in self._data]\n",
    "        # random.choice: random sample from 1-D array\n",
    "        # Same as np.arrange without same num in array\n",
    "        pos = np.random.choice(len(self._data), self._num_clusters, replace=False)\n",
    "        centroid = []\n",
    "        for i in pos:\n",
    "            centroid.append(members[i])\n",
    "        # Update centroid\n",
    "        self._E = centroid\n",
    "        for i in range(self._num_clusters):\n",
    "            self._clusters[i].set_centroid(centroid[i])\n",
    "\n",
    "    # Calculate similarity from centroid to another member\n",
    "    # https://en.wikipedia.org/wiki/Cosine_similarity\n",
    "    # https://www.machinelearningplus.com/nlp/cosine-similarity/\n",
    "    def compute_similarity(self, member, centroid):\n",
    "        # K(X, Y) = <X, Y> / (||X||*||Y||)\n",
    "        return cosine_similarity([member._r_d], [centroid])\n",
    "\n",
    "    # Assign member to centroid\n",
    "    def select_cluster_for(self, member):\n",
    "        best_fit_cluster = None\n",
    "        max_similarity = -1\n",
    "        for cluster in self._clusters:\n",
    "            similarity = self.compute_similarity(member, cluster._centroid)\n",
    "            if similarity > max_similarity:\n",
    "                best_fit_cluster = cluster\n",
    "                max_similarity = similarity\n",
    "        best_fit_cluster.add_members(member)\n",
    "        return max_similarity\n",
    "\n",
    "    def update_centroid_of(self, cluster):\n",
    "        member_r_ds = [member._r_d for member in cluster._members]\n",
    "        aver_r_d = np.mean(member_r_ds, axis=0)\n",
    "        sqrt_sum_sqr = np.sqrt(np.sum(aver_r_d ** 2))\n",
    "        new_centroid = aver_r_d / sqrt_sum_sqr\n",
    "\n",
    "        cluster._centroid = new_centroid\n",
    "\n",
    "    def stopping_condition(self, criterion, threshold):\n",
    "        criteria = ['centroid', 'similarity', 'max_iters']\n",
    "        assert criterion in criteria\n",
    "        if criterion == 'max_iters':\n",
    "            if self._iteration >= threshold:\n",
    "                return True\n",
    "            else:\n",
    "                return False\n",
    "        elif criterion == 'centroid':\n",
    "            E_new = [list(cluster._centroid) for cluster in self._clusters]\n",
    "            E_new_minus_E = [centroid for centroid in E_new if centroid not in self._E]\n",
    "            self._E = E_new\n",
    "            if len(E_new_minus_E) <= threhold:\n",
    "                return True\n",
    "            else:\n",
    "                return False\n",
    "        else:\n",
    "            new_S_minus_S = self._new_S - self._S\n",
    "            self._S = self._new_S\n",
    "            if new_S_minus_S <= threshold:\n",
    "                return True\n",
    "            else:\n",
    "                return False    \n",
    "\n",
    "    # Loop update cluster until convergence \n",
    "    # Step 1: For each instance, assign it to nearest centroid\n",
    "    # Step 2: For each cluster, recompute its centroid\n",
    "    def run(self, seed_value, criterion, threshold):\n",
    "        self.random_init(seed_value)\n",
    "        self._iteration = 0\n",
    "        while True:\n",
    "            # Reset clusters, retain only centroids\n",
    "            for cluster in self._clusters:\n",
    "                cluster.reset_members()\n",
    "                self._new_S = 0\n",
    "            # Select nearest member for each cluster\n",
    "            for member in self._data:\n",
    "                max_s = self.select_cluster_for(member)\n",
    "                self._new_S += max_s\n",
    "            # Recompute centroid \n",
    "            for cluster in self._clusters:\n",
    "                self.update_centroid_of(cluster)\n",
    "\n",
    "            # Stop loop with criterion\n",
    "            self._iteration += 1\n",
    "            if self.stopping_condition(criterion, threshold):\n",
    "                break"
   ]
  },
  {
   "cell_type": "code",
   "execution_count": 57,
   "metadata": {},
   "outputs": [
    {
     "data": {
      "text/plain": [
       "array([2, 0, 1])"
      ]
     },
     "execution_count": 57,
     "metadata": {},
     "output_type": "execute_result"
    }
   ],
   "source": [
    "np.random.choice(5,3, replace = False)"
   ]
  }
 ],
 "metadata": {
  "interpreter": {
   "hash": "618af10fdd433c84be79e5d9cef7a85d74ad68be7e2e9dd9461a47b527f16862"
  },
  "kernelspec": {
   "display_name": "Python 3.8.8 ('base')",
   "language": "python",
   "name": "python3"
  },
  "language_info": {
   "codemirror_mode": {
    "name": "ipython",
    "version": 3
   },
   "file_extension": ".py",
   "mimetype": "text/x-python",
   "name": "python",
   "nbconvert_exporter": "python",
   "pygments_lexer": "ipython3",
   "version": "3.8.8"
  },
  "orig_nbformat": 4
 },
 "nbformat": 4,
 "nbformat_minor": 2
}
