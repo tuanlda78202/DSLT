{
 "cells": [
  {
   "cell_type": "markdown",
   "metadata": {},
   "source": [
    "# Preprocessing text data with TF-IDF"
   ]
  },
  {
   "cell_type": "markdown",
   "metadata": {},
   "source": [
    "- TF-IDF with a context d in D (corpus):\n",
    "\n",
    "$r_d = [tf-idf(w_1, d, D), tf-idf(w_2, d, D), ..., tf-idf(w_{|V|}, d, D)]$\n",
    "\n",
    "with, $r_d \\in R^{|V|}$ is a vector $|V|$ dims and $V = {w_i}$ is a dictionary (all words appear in $D$) respect to $D$\n",
    "\n",
    "- Inside:\n",
    "\n",
    "$tf-idf(w_i, d, D) = tf(w_i, d) * idf(w_i, D)$\n",
    "\n",
    "with,\n",
    "\n",
    "$tf(w_i, d) = \\dfrac{f(w_i, d)}{max(f(w_j, d): w_j \\in V)}$\n",
    "\n",
    "$idf(w_i, D) = log_{10}^{\\dfrac{|D|}{|d' \\in D: w_i \\in d'|}}$\n",
    "\n",
    "- Identify dictionary V:\n",
    "\n",
    "  - With each context $d$ in $D$:\n",
    "    - Separate d to some word by punctuation, then collect $W_d$\n",
    "    - Delete stop words from $W_d$\n",
    "    - Convert word to original (stemming), then collect $W_d$\n",
    "  - Finally:\n",
    "    $V = $ Intersection of $W_d$ with $d \\in D$"
   ]
  },
  {
   "cell_type": "markdown",
   "metadata": {},
   "source": [
    "# 1. Gather Data "
   ]
  },
  {
   "cell_type": "code",
   "execution_count": 56,
   "metadata": {},
   "outputs": [],
   "source": [
    "# Module Path\n",
    "import os\n",
    "\n",
    "# Module Stemming\n",
    "from nltk.stem import PorterStemmer\n",
    "\n",
    "# Avoid Key Error with init default value by Defaultdict for that key has not been set yet\n",
    "# We still can avoid this  by using defaulting in normal dict as well: d.get(key,0)\n",
    "# https://bit.ly/3BWCX0E\n",
    "# [[a,b]] / [(a,b)] -> dict/default() -> 2 var in pack\n",
    "from collections import defaultdict\n",
    "\n",
    "# Other lib\n",
    "import pandas as pd \n",
    "import numpy as np\n",
    "import math \n",
    "import re"
   ]
  },
  {
   "cell_type": "code",
   "execution_count": 47,
   "metadata": {},
   "outputs": [],
   "source": [
    "# Delete .DS_Store file (only for Mac)\n",
    "# cd /Users/charles/MLGT/SESSION_1\n",
    "# find . -name \".DS_Store\" -print -delete"
   ]
  },
  {
   "cell_type": "code",
   "execution_count": 48,
   "metadata": {},
   "outputs": [],
   "source": [
    "def gather_data(path):\n",
    "    # Get list dir of folder & news_group\n",
    "    # listdir(): get the list of all files and directories in the specified directory. \n",
    "    dirs = [path + dir_name + \"/\"\n",
    "            for dir_name in os.listdir(path)\n",
    "                if not os.path.isfile(path + dir_name)]\n",
    "    # Assign folder train & test dir\n",
    "    train_dir, test_dir = (dirs[0], dirs[1]) if \"train\" in dirs else (dirs[1], dirs[0])\n",
    "    # Crawl news group\n",
    "    list_newsgroup = [news for news in os.listdir(train_dir)]\n",
    "    list_newsgroup.sort()\n",
    "    \n",
    "    # Create Dictionary\n",
    "    # Read stop words\n",
    "    with open(path + \"stop_word.txt\") as f:\n",
    "        stop_words = f.read().splitlines()\n",
    "    stemmer = PorterStemmer()\n",
    "\n",
    "    # Collect Data from news group\n",
    "    def collect_data_from(parent_dir, newsgroup_list):\n",
    "        data = []\n",
    "        # Enumerate(): Simplify Looping With Counters\n",
    "        # Get news files & path \n",
    "        for group_id, newsgroup in enumerate(newsgroup_list):\n",
    "            label = group_id\n",
    "            dir_path = parent_dir + newsgroup + '/'\n",
    "            files = [(filename, dir_path + filename)\n",
    "                        for filename in os.listdir(dir_path)\n",
    "                            if os.path.isfile(dir_path + filename)]\n",
    "            files.sort()\n",
    "\n",
    "            # Stemming words for each file\n",
    "            for filename, filepath in files:\n",
    "                with open(filepath, errors='ignore') as f:\n",
    "                    # Ignore byte sequence which is not allowed in utf-8-encoded strings (namely this 0xff at position 0)\n",
    "                    # https://bit.ly/3BUsiUl\n",
    "                    text = f.read().lower()\n",
    "                    # re \\W: matches any character that is not a word character from the basic Latin alphabet\n",
    "                    # Remove stop words and stemming words\n",
    "                    words = [stemmer.stem(word)\n",
    "                                for word in re.split('\\W+', text)    \n",
    "                                    if word not in stop_words]\n",
    "                    # Combine remaning words\n",
    "                    content = ' '.join(words)\n",
    "                    assert len(content.splitlines()) == 1\n",
    "                    data.append(str(label) + '<fff>' +\n",
    "                                    filename + '<fff>' + content)\n",
    "        return data     \n",
    "    \n",
    "    # Set data train & test \n",
    "    data_train = collect_data_from(train_dir, list_newsgroup)\n",
    "    data_test = collect_data_from(test_dir, list_newsgroup)\n",
    "    data_full = data_train + data_test\n",
    "\n",
    "    # Write data to file with w+\n",
    "    with open(path + \"20news_train_processed.txt\", \"w+\") as f:\n",
    "        f.write(\"\\n\".join(data_train))\n",
    "    with open(path + \"20news_test_processed.txt\", \"w+\") as f:\n",
    "        f.write(\"\\n\".join(data_test))\n",
    "    with open(path + \"20news_full_processed.txt\", \"w+\") as f:\n",
    "        f.write(\"\\n\".join(data_full))\n",
    "\n",
    "path = \"/Users/charles/MLGT/SESSION_1/Data/20news-bydate/\" \n",
    "gather_data(path)"
   ]
  },
  {
   "cell_type": "markdown",
   "metadata": {},
   "source": [
    "# 2. Preprocessing Text"
   ]
  },
  {
   "cell_type": "code",
   "execution_count": 60,
   "metadata": {},
   "outputs": [
    {
     "name": "stdout",
     "output_type": "stream",
     "text": [
      "18846\n"
     ]
    },
    {
     "data": {
      "text/plain": [
       "'0<fff>49960<fff>mathew mathew '"
      ]
     },
     "execution_count": 60,
     "metadata": {},
     "output_type": "execute_result"
    }
   ],
   "source": [
    "# Check full data \n",
    "with open(\"/Users/charles/MLGT/SESSION_1/Data/20news-bydate/20news_full_processed.txt\", errors=\"ignore\") as f:\n",
    "    doc = f.read().splitlines()\n",
    "    print(len(doc))\n",
    "# docs: (label, doc_id, text)\n",
    "doc[0][:30]"
   ]
  },
  {
   "cell_type": "code",
   "execution_count": 57,
   "metadata": {},
   "outputs": [],
   "source": [
    "# Compute IDF \n",
    "def compute_idf(doc_freq, corpus_size):\n",
    "    assert doc_freq > 0\n",
    "    return np.log10(corpus_size * 1. / doc_freq)"
   ]
  },
  {
   "cell_type": "code",
   "execution_count": 61,
   "metadata": {},
   "outputs": [],
   "source": [
    "# Generate Vocab (word, idf): abc<fff>7.8230203023421\n",
    "def generate_vocabulary(data_path):\n",
    "    with open(data_path, errors='ignore') as f:\n",
    "        lines = f.read().splitlines()\n",
    "    # Init DefaultDict with type int \n",
    "    doc_count = defaultdict(int)\n",
    "    corpus_size = len(lines)\n",
    "\n",
    "    for line in lines:\n",
    "        features = line.split('<fff>')\n",
    "        text = features[-1]\n",
    "        words = list(set(text.split()))\n",
    "        for word in words:\n",
    "            doc_count[word] += 1\n",
    "\n",
    "    # Calculate IDF to (word, idf)\n",
    "    words_idfs = [(word, compute_idf(document_freq, corpus_size))\n",
    "                   for word, document_freq in zip(doc_count.keys(), doc_count.values())\n",
    "                   if document_freq > 10 and not word.isdigit()]\n",
    "    words_idfs.sort(key=lambda word_idf: -word_idf[1])\n",
    "\n",
    "    # Write dictionary file \n",
    "    with open(\"/Users/charles/MLGT/SESSION_1/Data/20news-bydate/words_idfs.txt\", 'w+') as f:\n",
    "        f.write('\\n'.join([word + '<fff>' + str(idf) for word, idf in words_idfs]))\n",
    "    \n",
    "# Apply for full data \n",
    "generate_vocabulary(\"/Users/charles/MLGT/SESSION_1/Data/20news-bydate/20news_full_processed.txt\")"
   ]
  },
  {
   "cell_type": "code",
   "execution_count": 68,
   "metadata": {},
   "outputs": [],
   "source": [
    "# TF-IDF\n",
    "def get_tf_idf(data_path):\n",
    "    with open(\"/Users/charles/MLGT/SESSION_1/Data/20news-bydate/words_idfs.txt\", errors='ignore') as f:\n",
    "        words_idfs = [(line.split('<fff>')[0], float(line.split('<fff>')[1]))\n",
    "                    for line in f.read().splitlines()]\n",
    "        words_IDs = dict([(word, index)\n",
    "                        for index, (word, idf) in enumerate(words_idfs)])\n",
    "        idfs = dict(words_idfs)\n",
    "    \n",
    "    # Split <fff>\n",
    "    with open(data_path, errors='ignore') as f:\n",
    "        documents = [(int(line.split('<fff>')[0]),\n",
    "                    int(line.split('<fff>')[1]),\n",
    "                    line.split('<fff>')[2])\n",
    "                    for line in f.read().splitlines()]\n",
    "\n",
    "        data_tf_idf = []\n",
    "        for document in documents:\n",
    "            label, doc_id, text = document\n",
    "            words = [word for word in text.split() if word in idfs]\n",
    "            word_set = list(set(words))\n",
    "            max_term_freq = max([words.count(word) for word in word_set])\n",
    "            words_tfidfs = []\n",
    "            sum_squares = 0.0\n",
    "\n",
    "            for word in word_set:\n",
    "                term_freq = words.count(word)\n",
    "                tf_idf_value = term_freq * (1. / max_term_freq) * idfs[word]\n",
    "                words_tfidfs.append((words_IDs[word], tf_idf_value))\n",
    "                sum_squares += tf_idf_value ** 2\n",
    "\n",
    "            words_tfidfs_normalize = [str(index) + ':'\n",
    "                                    + str(tf_idf_value / np.sqrt(sum_squares))\n",
    "                                    for index, tf_idf_value in words_tfidfs]\n",
    "            sparse_rep = ' '.join(words_tfidfs_normalize)\n",
    "            data_tf_idf.append((label, doc_id, sparse_rep))\n",
    "    return data_tf_idf\n",
    "\n",
    "# Apply, result = (label, doc_id, sparse_rep)\n",
    "data_tf_idf = get_tf_idf(\"/Users/charles/MLGT/SESSION_1/Data/20news-bydate/20news_full_processed.txt\")"
   ]
  },
  {
   "cell_type": "code",
   "execution_count": 103,
   "metadata": {},
   "outputs": [],
   "source": [
    "# Write file data_tf_idf with a<fff>b<fff>c\n",
    "with open(\"/Users/charles/MLGT/SESSION_1/Data/20news-bydate/data_tf_idf.txt\", 'w+') as f:\n",
    "    result = []\n",
    "    for num in range(len(data_tf_idf)):\n",
    "        connect = \"<fff>\".join([str(data_tf_idf[num][0]), str(data_tf_idf[num][1]), data_tf_idf[num][2]])\n",
    "        result.append(connect)\n",
    "    f.write('\\n'.join(result))"
   ]
  }
 ],
 "metadata": {
  "interpreter": {
   "hash": "618af10fdd433c84be79e5d9cef7a85d74ad68be7e2e9dd9461a47b527f16862"
  },
  "kernelspec": {
   "display_name": "Python 3.8.8 ('base')",
   "language": "python",
   "name": "python3"
  },
  "language_info": {
   "codemirror_mode": {
    "name": "ipython",
    "version": 3
   },
   "file_extension": ".py",
   "mimetype": "text/x-python",
   "name": "python",
   "nbconvert_exporter": "python",
   "pygments_lexer": "ipython3",
   "version": "3.8.8"
  },
  "orig_nbformat": 4
 },
 "nbformat": 4,
 "nbformat_minor": 2
}
