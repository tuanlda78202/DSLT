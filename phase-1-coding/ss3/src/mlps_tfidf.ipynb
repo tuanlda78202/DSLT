{
  "nbformat": 4,
  "nbformat_minor": 0,
  "metadata": {
    "colab": {
      "name": "MLPs_TFIDF.ipynb",
      "provenance": [],
      "collapsed_sections": []
    },
    "kernelspec": {
      "name": "python3",
      "display_name": "Python 3"
    },
    "language_info": {
      "name": "python"
    },
    "accelerator": "GPU"
  },
  "cells": [
    {
      "cell_type": "code",
      "source": [
        "from google.colab import drive\n",
        "drive.mount(\"/content/drive\")"
      ],
      "metadata": {
        "colab": {
          "base_uri": "https://localhost:8080/"
        },
        "id": "UtT8ol0MkbrX",
        "outputId": "3716358e-8067-4177-f4b1-3ff03ceb19b3"
      },
      "execution_count": 1,
      "outputs": [
        {
          "output_type": "stream",
          "name": "stdout",
          "text": [
            "Drive already mounted at /content/drive; to attempt to forcibly remount, call drive.mount(\"/content/drive\", force_remount=True).\n"
          ]
        }
      ]
    },
    {
      "cell_type": "code",
      "execution_count": 2,
      "metadata": {
        "id": "0dl8n-XQXA-p"
      },
      "outputs": [],
      "source": [
        "import tensorflow as tf\n",
        "from tensorflow import keras\n",
        "import pandas as pd \n",
        "import numpy as np \n",
        "import matplotlib.pyplot as plt"
      ]
    },
    {
      "cell_type": "code",
      "source": [
        "def load_data(path = \"/content/drive/MyDrive/Colab/Data/20news_MLGT/\"):\n",
        "    # Get data from each line with label, doc_id, index & tfidf of its vocab\n",
        "    def sparse_to_dense(sparse_r_d, vocab_size):\n",
        "        # Init list size vocal size to store vocal \n",
        "        r_d = [0.0 for _ in range(vocab_size)]\n",
        "            \n",
        "        # Split space & : in context data of each line \n",
        "        # Get index (id vocal of each line) & tfidfs\n",
        "        indices_and_tfidfs = sparse_r_d.split()\n",
        "        for index_and_tfidf in indices_and_tfidfs:\n",
        "            index = int(index_and_tfidf.split(':')[0])\n",
        "            tfidf = float(index_and_tfidf.split(':')[1])\n",
        "            r_d[index] = tfidf\n",
        "        return np.array(r_d)    \n",
        "                \n",
        "    # Open file (newsgroup, id, context)\n",
        "    with open(path + \"data_tf_idf.txt\") as f:\n",
        "        data_lines = f.read().splitlines()\n",
        "    # Get size file vocal TF-IDF\n",
        "    with open(path + \"words_idfs.txt\") as f:\n",
        "        vocab_size = len(f.read().splitlines())\n",
        "\n",
        "    # Member store info of data points: tf_idf, news group, file name of text d\n",
        "    data, labels = [], []\n",
        "    # Iterating sequence of pairs with counter\n",
        "    for data_id, d in enumerate(data_lines):\n",
        "        features = d.split('<fff>')\n",
        "        label, doc_id = int(features[0]), int(features[1])\n",
        "        r_d = sparse_to_dense(sparse_r_d=features[2], vocab_size=vocab_size)\n",
        "\n",
        "        # Append data & labels\n",
        "        data.append(r_d)\n",
        "        labels.append(label)\n",
        "    return np.array(data), np.array(labels)"
      ],
      "metadata": {
        "id": "rs0n4DmvkTSa"
      },
      "execution_count": 3,
      "outputs": []
    },
    {
      "cell_type": "code",
      "source": [
        "# Load data\n",
        "X, y = load_data()\n",
        "\n",
        "# Split Data\n",
        "from sklearn.model_selection import train_test_split\n",
        "X_train, X_test, y_train, y_test = train_test_split(X, y, test_size=0.2, random_state=1)\n",
        "X_train, X_val, y_train, y_val = train_test_split(X_train, y_train, test_size=0.25, random_state=1) # 0.25 x 0.8 = 0.2"
      ],
      "metadata": {
        "id": "YmhYOwf2XMAJ"
      },
      "execution_count": 4,
      "outputs": []
    },
    {
      "cell_type": "code",
      "source": [
        "model = keras.models.Sequential([ \n",
        "    keras.layers.Flatten(input_shape = X_train.shape[1:]),\n",
        "    keras.layers.Dense(100, activation = \"relu\"),\n",
        "    keras.layers.Dense(50, activation = \"relu\"),\n",
        "    keras.layers.Dense(20, activation = \"softmax\")])\n",
        "model.summary()"
      ],
      "metadata": {
        "colab": {
          "base_uri": "https://localhost:8080/"
        },
        "id": "HP0epl7lk6z-",
        "outputId": "04cd6eef-36fb-40d5-b622-b1ab2847a113"
      },
      "execution_count": 5,
      "outputs": [
        {
          "output_type": "stream",
          "name": "stdout",
          "text": [
            "Model: \"sequential\"\n",
            "_________________________________________________________________\n",
            " Layer (type)                Output Shape              Param #   \n",
            "=================================================================\n",
            " flatten (Flatten)           (None, 14230)             0         \n",
            "                                                                 \n",
            " dense (Dense)               (None, 100)               1423100   \n",
            "                                                                 \n",
            " dense_1 (Dense)             (None, 50)                5050      \n",
            "                                                                 \n",
            " dense_2 (Dense)             (None, 20)                1020      \n",
            "                                                                 \n",
            "=================================================================\n",
            "Total params: 1,429,170\n",
            "Trainable params: 1,429,170\n",
            "Non-trainable params: 0\n",
            "_________________________________________________________________\n"
          ]
        }
      ]
    },
    {
      "cell_type": "code",
      "source": [
        "model.compile(loss = \"sparse_categorical_crossentropy\",\n",
        "              optimizer = \"sgd\",\n",
        "              metrics=[\"accuracy\"])\n",
        "\n",
        "history = model.fit(X_train, y_train,\n",
        "                    epochs = 20,\n",
        "                    validation_data = (X_val, y_val))"
      ],
      "metadata": {
        "colab": {
          "base_uri": "https://localhost:8080/"
        },
        "id": "2LN7t1fYmFSy",
        "outputId": "b40614e7-7b37-4e67-a0fb-ce46b88cf893"
      },
      "execution_count": 22,
      "outputs": [
        {
          "output_type": "stream",
          "name": "stdout",
          "text": [
            "Epoch 1/20\n",
            "354/354 [==============================] - 3s 7ms/step - loss: 0.6971 - accuracy: 0.8763 - val_loss: 0.8623 - val_accuracy: 0.8151\n",
            "Epoch 2/20\n",
            "354/354 [==============================] - 2s 6ms/step - loss: 0.6632 - accuracy: 0.8822 - val_loss: 0.8297 - val_accuracy: 0.8124\n",
            "Epoch 3/20\n",
            "354/354 [==============================] - 3s 7ms/step - loss: 0.6303 - accuracy: 0.8868 - val_loss: 0.8005 - val_accuracy: 0.8220\n",
            "Epoch 4/20\n",
            "354/354 [==============================] - 2s 7ms/step - loss: 0.6011 - accuracy: 0.8902 - val_loss: 0.7821 - val_accuracy: 0.8294\n",
            "Epoch 5/20\n",
            "354/354 [==============================] - 2s 6ms/step - loss: 0.5727 - accuracy: 0.8945 - val_loss: 0.7549 - val_accuracy: 0.8315\n",
            "Epoch 6/20\n",
            "354/354 [==============================] - 2s 7ms/step - loss: 0.5466 - accuracy: 0.9002 - val_loss: 0.7400 - val_accuracy: 0.8315\n",
            "Epoch 7/20\n",
            "354/354 [==============================] - 2s 6ms/step - loss: 0.5225 - accuracy: 0.9030 - val_loss: 0.7120 - val_accuracy: 0.8405\n",
            "Epoch 8/20\n",
            "354/354 [==============================] - 2s 7ms/step - loss: 0.4987 - accuracy: 0.9075 - val_loss: 0.6949 - val_accuracy: 0.8379\n",
            "Epoch 9/20\n",
            "354/354 [==============================] - 2s 6ms/step - loss: 0.4768 - accuracy: 0.9117 - val_loss: 0.6808 - val_accuracy: 0.8374\n",
            "Epoch 10/20\n",
            "354/354 [==============================] - 2s 6ms/step - loss: 0.4572 - accuracy: 0.9173 - val_loss: 0.6656 - val_accuracy: 0.8405\n",
            "Epoch 11/20\n",
            "354/354 [==============================] - 2s 7ms/step - loss: 0.4375 - accuracy: 0.9181 - val_loss: 0.6465 - val_accuracy: 0.8435\n",
            "Epoch 12/20\n",
            "354/354 [==============================] - 2s 6ms/step - loss: 0.4193 - accuracy: 0.9217 - val_loss: 0.6335 - val_accuracy: 0.8464\n",
            "Epoch 13/20\n",
            "354/354 [==============================] - 2s 7ms/step - loss: 0.4025 - accuracy: 0.9262 - val_loss: 0.6217 - val_accuracy: 0.8506\n",
            "Epoch 14/20\n",
            "354/354 [==============================] - 2s 7ms/step - loss: 0.3864 - accuracy: 0.9290 - val_loss: 0.6098 - val_accuracy: 0.8541\n",
            "Epoch 15/20\n",
            "354/354 [==============================] - 2s 7ms/step - loss: 0.3709 - accuracy: 0.9326 - val_loss: 0.5984 - val_accuracy: 0.8538\n",
            "Epoch 16/20\n",
            "354/354 [==============================] - 2s 7ms/step - loss: 0.3568 - accuracy: 0.9353 - val_loss: 0.5940 - val_accuracy: 0.8559\n",
            "Epoch 17/20\n",
            "354/354 [==============================] - 2s 6ms/step - loss: 0.3426 - accuracy: 0.9387 - val_loss: 0.5780 - val_accuracy: 0.8591\n",
            "Epoch 18/20\n",
            "354/354 [==============================] - 2s 7ms/step - loss: 0.3296 - accuracy: 0.9408 - val_loss: 0.5734 - val_accuracy: 0.8549\n",
            "Epoch 19/20\n",
            "354/354 [==============================] - 2s 6ms/step - loss: 0.3172 - accuracy: 0.9447 - val_loss: 0.5654 - val_accuracy: 0.8612\n",
            "Epoch 20/20\n",
            "354/354 [==============================] - 2s 6ms/step - loss: 0.3053 - accuracy: 0.9460 - val_loss: 0.5569 - val_accuracy: 0.8596\n"
          ]
        }
      ]
    },
    {
      "cell_type": "code",
      "source": [
        "pd.DataFrame(history.history).plot(figsize = (15,5));\n",
        "plt.grid(\"True\")"
      ],
      "metadata": {
        "colab": {
          "base_uri": "https://localhost:8080/",
          "height": 320
        },
        "id": "kLaytNX9x0Nm",
        "outputId": "1da1479a-d398-4ddd-aaa3-0e40ee36a1e2"
      },
      "execution_count": 23,
      "outputs": [
        {
          "output_type": "display_data",
          "data": {
            "image/png": "[encoded data removed]",
            "text/plain": [
              "<Figure size 1080x360 with 1 Axes>"
            ]
          },
          "metadata": {
            "needs_background": "light"
          }
        }
      ]
    },
    {
      "cell_type": "code",
      "source": [
        "# Evaluate parameters on the test set to estimate the generalization error\n",
        "model.evaluate(X_test, y_test)"
      ],
      "metadata": {
        "colab": {
          "base_uri": "https://localhost:8080/"
        },
        "id": "io10gf4RzQ15",
        "outputId": "69f343ed-bbc7-4723-b974-f1ad4be09537"
      },
      "execution_count": 32,
      "outputs": [
        {
          "output_type": "stream",
          "name": "stdout",
          "text": [
            "118/118 [==============================] - 1s 4ms/step - loss: 0.5441 - accuracy: 0.8607\n"
          ]
        },
        {
          "output_type": "execute_result",
          "data": {
            "text/plain": [
              "[0.5441098809242249, 0.8607426881790161]"
            ]
          },
          "metadata": {},
          "execution_count": 32
        }
      ]
    },
    {
      "cell_type": "code",
      "source": [
        "model.predict(X_test[:1])"
      ],
      "metadata": {
        "colab": {
          "base_uri": "https://localhost:8080/"
        },
        "id": "sVwAB0FA2Olh",
        "outputId": "873bbe95-6ec9-4973-8420-7ce17d4477ef"
      },
      "execution_count": 36,
      "outputs": [
        {
          "output_type": "execute_result",
          "data": {
            "text/plain": [
              "array([[2.1597330e-06, 1.9379929e-06, 1.8262326e-04, 1.1174806e-04,\n",
              "        2.4862072e-04, 2.6666816e-05, 6.7859669e-03, 5.3056669e-05,\n",
              "        4.5941139e-04, 9.7805846e-01, 1.3587152e-02, 3.8562313e-05,\n",
              "        4.2068496e-05, 3.2963337e-05, 5.7501879e-06, 6.0016463e-09,\n",
              "        6.5452713e-07, 6.3673346e-05, 2.8331869e-04, 1.5191481e-05]],\n",
              "      dtype=float32)"
            ]
          },
          "metadata": {},
          "execution_count": 36
        }
      ]
    },
    {
      "cell_type": "code",
      "source": [
        "# Return predict newsgroup\n",
        "np.argmax(model.predict(X_test[:1]), axis= -1)"
      ],
      "metadata": {
        "colab": {
          "base_uri": "https://localhost:8080/"
        },
        "id": "o-_y5JEw2uSx",
        "outputId": "5ee614e9-0aa6-4b55-b159-afceae86ea44"
      },
      "execution_count": 37,
      "outputs": [
        {
          "output_type": "execute_result",
          "data": {
            "text/plain": [
              "array([9])"
            ]
          },
          "metadata": {},
          "execution_count": 37
        }
      ]
    }
  ]
}